{
 "cells": [
  {
   "cell_type": "markdown",
   "metadata": {},
   "source": [
    "# MNIST\n",
    "\n",
    "First we check that conic activation function slightly outperforms ReLU on mnist classification task."
   ]
  },
  {
   "cell_type": "code",
   "execution_count": 28,
   "metadata": {},
   "outputs": [
    {
     "name": "stderr",
     "output_type": "stream",
     "text": [
      "Exception in thread Thread-118 (inner):\n",
      "Traceback (most recent call last):\n",
      "  File \"/usr/lib/python3.10/threading.py\", line 1016, in _bootstrap_inner\n",
      "    self.run()\n",
      "  File \"/home/evergreen/.local/lib/python3.10/site-packages/ipykernel/ipkernel.py\", line 766, in run_closure\n",
      "    _threading_Thread_run(self)\n",
      "  File \"/usr/lib/python3.10/threading.py\", line 953, in run\n"
     ]
    },
    {
     "name": "stderr",
     "output_type": "stream",
     "text": [
      "    self._target(*self._args, **self._kwargs)\n",
      "  File \"/home/evergreen/.local/lib/python3.10/site-packages/jax_smi/initialise_tracking.py\", line 10, in inner\n",
      "    posix.rename(f'{dir_prefix}/memory.prof.new', f'{dir_prefix}/memory.prof')  # atomic\n",
      "FileNotFoundError: [Errno 2] No such file or directory: '/dev/shm/memory.prof.new' -> '/dev/shm/memory.prof'\n"
     ]
    }
   ],
   "source": [
    "import jax\n",
    "import jax.numpy as jnp\n",
    "import numpy as np\n",
    "import flax\n",
    "import flax.linen as nn\n",
    "import optax\n",
    "import tensorflow_datasets as tfds\n",
    "from flax.training.train_state import TrainState\n",
    "from flax.training.common_utils import shard\n",
    "import os\n",
    "os.environ['TF_CPP_MIN_LOG_LEVEL'] = '3'\n",
    "import sys\n",
    "sys.path.append('.')\n",
    "from tqdm.auto import tqdm\n",
    "import time\n",
    "from maxdiffusion.models.act_flax import rcolu, colu\n",
    "import functools\n",
    "from jax_smi import initialise_tracking\n",
    "initialise_tracking()\n",
    "\n",
    "def cross_entropy_loss(logits, labels):\n",
    "    one_hot_labels = jax.nn.one_hot(labels, num_classes=10)\n",
    "    return optax.softmax_cross_entropy(logits, one_hot_labels).mean()\n",
    "\n",
    "def accuracy(logits, labels):\n",
    "    predictions = jnp.argmax(logits, axis=-1)\n",
    "    return jnp.mean(predictions == labels)\n",
    "\n",
    "@jax.pmap\n",
    "def train_step(state, batch):\n",
    "    def loss_fn(params):\n",
    "        logits = state.apply_fn({'params': params}, batch['image'])\n",
    "        loss = cross_entropy_loss(logits, batch['label'])\n",
    "        return loss, logits\n",
    "\n",
    "    grad_fn = jax.value_and_grad(loss_fn, has_aux=True)\n",
    "    (loss, logits), grads = grad_fn(state.params)\n",
    "    state = state.apply_gradients(grads=grads)\n",
    "    acc = accuracy(logits, batch['label'])\n",
    "    return state, loss, acc\n",
    "\n",
    "@jax.pmap\n",
    "def eval_step(state, batch):\n",
    "    logits = state.apply_fn({'params': state.params}, batch['image'])\n",
    "    loss = cross_entropy_loss(logits, batch['label'])\n",
    "    acc = accuracy(logits, batch['label'])\n",
    "    return loss, acc\n",
    "\n",
    "def prepare_data(data_name):\n",
    "    ds_builder = tfds.builder(data_name)\n",
    "    ds_builder.download_and_prepare()\n",
    "    train_ds = tfds.as_numpy(tfds.load(data_name, split='train', batch_size=128, shuffle_files=True))\n",
    "    test_ds = tfds.as_numpy(tfds.load(data_name, split='test', batch_size=128))\n",
    "    return train_ds, test_ds\n",
    "\n",
    "def create_train_state(model, rng, learning_rate, weight_decay=.01):\n",
    "    params = model.init(rng, jnp.ones([1, 28, 28, 1]))['params']\n",
    "    \n",
    "    def weight_decay_mask(params):\n",
    "        return {k: 'bias' not in k and 'scale' not in k for k in params.keys()}\n",
    "\n",
    "    tx = optax.adamw(learning_rate=learning_rate, weight_decay=weight_decay, mask=weight_decay_mask(params))\n",
    "    return TrainState.create(apply_fn=model.apply, params=params, tx=tx)\n",
    "\n",
    "def train_and_evaluate(model, num_epochs, learning_rate):\n",
    "    rng = jax.random.PRNGKey(int(time.time()))\n",
    "    # rng = jax.random.PRNGKey(0)\n",
    "    rngs = {'params': rng}\n",
    "    train_ds, test_ds = prepare_data('mnist')\n",
    "    state = create_train_state(model, rngs, learning_rate)\n",
    "     \n",
    "    # Replicate state across devices\n",
    "    state = jax.device_put_replicated(state, jax.local_devices())\n",
    "\n",
    "    # bar = tqdm(range(num_epochs),leave=0)\n",
    "    bar = range(num_epochs)\n",
    "    # pbar = tqdm(range(len(train_ds)),leave=1)\n",
    "    best_test_acc = list()\n",
    "    for _ in bar:\n",
    "        # pbar.reset()\n",
    "        # Training loop\n",
    "        for batch in train_ds:\n",
    "            # pbar.update(1)\n",
    "            batch = shard(batch)\n",
    "            state, train_loss, train_acc = train_step(state, batch)\n",
    "            train_loss, train_acc = jax.device_get(flax.jax_utils.unreplicate((train_loss, train_acc)))\n",
    "            # pbar.set_postfix(dict(train_loss=train_loss,train_acc=train_acc))\n",
    "\n",
    "        # Evaluation loop\n",
    "        test_loss, test_acc = 0, 0\n",
    "        for batch in test_ds:\n",
    "            batch = shard(batch)\n",
    "            loss, acc = eval_step(state, batch)\n",
    "            test_loss += loss.mean()\n",
    "            test_acc += acc.mean()\n",
    "\n",
    "        test_loss /= len(test_ds)\n",
    "        test_acc /= len(test_ds)\n",
    "        best_test_acc.append(test_acc.item())\n",
    "\n",
    "        # bar.set_postfix({'Test Loss':test_loss,'Test Acc':test_acc})\n",
    "        \n",
    "    # pbar.close()\n",
    "    # bar.close()\n",
    "    best_test_acc = max(best_test_acc)\n",
    "    print('Test Loss',test_loss,'Test Acc',test_acc,'Best Test Acc',best_test_acc)\n",
    "    return best_test_acc\n",
    "\n",
    "# validate different activation functions\n",
    "def validate_activation(fn,C=512):\n",
    "    class MNISTModel(nn.Module):\n",
    "        @nn.compact\n",
    "        def __call__(self, x):\n",
    "            x = x.reshape(-1, 28 * 28)  # Flatten the input\n",
    "            x = nn.Dense(features=C)(x)\n",
    "            x = fn(x)\n",
    "            x = nn.Dense(features=10)(x)\n",
    "            return x\n",
    "    \n",
    "    model = MNISTModel()\n",
    "    best_test_acc = []\n",
    "    for _ in range(10):\n",
    "        best_test_acc.append(train_and_evaluate(model, num_epochs=10, learning_rate=1e-3))\n",
    "    \n",
    "    print(f'{np.mean(best_test_acc)} ± {np.std(best_test_acc)}')\n"
   ]
  },
  {
   "cell_type": "code",
   "execution_count": 25,
   "metadata": {},
   "outputs": [
    {
     "name": "stdout",
     "output_type": "stream",
     "text": [
      "Test Loss 8.6116495 Test Acc 0.94699365 Best Test Acc 0.9469936490058899\n",
      "Test Loss 9.428128 Test Acc 0.9437302 Best Test Acc 0.9437301754951477\n",
      "Test Loss 9.258818 Test Acc 0.9463014 Best Test Acc 0.9473891854286194\n",
      "Test Loss 8.306987 Test Acc 0.94897145 Best Test Acc 0.9489714503288269\n",
      "Test Loss 9.527463 Test Acc 0.9451147 Best Test Acc 0.9485759139060974\n",
      "Test Loss 9.53101 Test Acc 0.9445213 Best Test Acc 0.9462024569511414\n",
      "Test Loss 9.417345 Test Acc 0.9427413 Best Test Acc 0.9446201920509338\n",
      "Test Loss 8.379103 Test Acc 0.9509493 Best Test Acc 0.9509493112564087\n",
      "Test Loss 8.7150955 Test Acc 0.94887257 Best Test Acc 0.9488725662231445\n",
      "Test Loss 8.919978 Test Acc 0.94699365 Best Test Acc 0.9471914172172546\n",
      "0.9473496317863465 ± 0.00203545376032162\n"
     ]
    }
   ],
   "source": [
    "fn = functools.partial(rcolu,num_groups=None,dim=4)\n",
    "validate_activation(fn,C=512)"
   ]
  },
  {
   "cell_type": "code",
   "execution_count": 3,
   "metadata": {},
   "outputs": [
    {
     "name": "stdout",
     "output_type": "stream",
     "text": [
      "Test Loss 0.9517396 Test Acc 0.93888444 Best Test Acc 0.938884437084198\n",
      "Test Loss 0.87694514 Test Acc 0.93789554 Best Test Acc 0.9420490264892578\n",
      "Test Loss 0.9394104 Test Acc 0.9430379 Best Test Acc 0.9430379271507263\n",
      "Test Loss 0.7890036 Test Acc 0.94165343 Best Test Acc 0.9416534304618835\n",
      "Test Loss 0.8576852 Test Acc 0.9375988 Best Test Acc 0.9375988245010376\n",
      "Test Loss 1.0372221 Test Acc 0.9381922 Best Test Acc 0.9381921887397766\n",
      "Test Loss 0.92235553 Test Acc 0.9406645 Best Test Acc 0.940664529800415\n",
      "Test Loss 1.0847064 Test Acc 0.93601656 Best Test Acc 0.9424445629119873\n",
      "Test Loss 0.8478746 Test Acc 0.9353243 Best Test Acc 0.938291072845459\n",
      "Test Loss 0.98507917 Test Acc 0.93928003 Best Test Acc 0.9392800331115723\n"
     ]
    },
    {
     "data": {
      "text/plain": [
       "{'mean': 0.9402096033096313, 'std': 0.001893583526538625}"
      ]
     },
     "execution_count": 3,
     "metadata": {},
     "output_type": "execute_result"
    }
   ],
   "source": [
    "fn = nn.relu\n",
    "validate_activation(fn)"
   ]
  },
  {
   "cell_type": "code",
   "execution_count": null,
   "metadata": {},
   "outputs": [
    {
     "name": "stdout",
     "output_type": "stream",
     "text": [
      "Test Loss 10.279629 Test Acc 0.9417523 Best Test Acc 0.9417523145675659\n",
      "Test Loss 10.1396 Test Acc 0.9454113 Best Test Acc 0.9489714503288269\n",
      "Test Loss 9.81035 Test Acc 0.94531244 Best Test Acc 0.9453124403953552\n",
      "Test Loss 9.391808 Test Acc 0.9497626 Best Test Acc 0.9497625827789307\n",
      "Test Loss 8.951644 Test Acc 0.9481803 Best Test Acc 0.9481803178787231\n",
      "Test Loss 9.499583 Test Acc 0.9430379 Best Test Acc 0.9444224238395691\n",
      "Test Loss 11.328159 Test Acc 0.9381922 Best Test Acc 0.9462024569511414\n",
      "Test Loss 9.084599 Test Acc 0.94887257 Best Test Acc 0.9488725662231445\n",
      "Test Loss 9.224252 Test Acc 0.9491693 Best Test Acc 0.9491692781448364\n",
      "Test Loss 10.45912 Test Acc 0.9464003 Best Test Acc 0.9464002847671509\n",
      "0.9469046115875244 ± 0.0024301976194708026\n"
     ]
    }
   ],
   "source": [
    "fn = functools.partial(rcolu,num_groups=None,dim=3)\n",
    "validate_activation(fn,C=513)"
   ]
  },
  {
   "cell_type": "markdown",
   "metadata": {},
   "source": [
    "#### Result:\n",
    "\n",
    "|Activation    | Test Accuracy                             |\n",
    "|--------------|-------------------------------------------|\n",
    "|relu          | 0.9399129211902618 ± 0.0018681033013814648|\n",
    "|rcolu (dim=4) | 0.9467661738395691 ± 0.0020805275338002405|\n",
    "|colu (4,hard) | 0.9249010622501374 ± 0.0018385487250506005|\n",
    "|colu (3,soft) | 0.9244066059589386 ± 0.004504809645835173 |\n",
    "|colu (3_sh_sf)| 0.9441455185413361 ± 0.0026118897350840696|"
   ]
  },
  {
   "cell_type": "code",
   "execution_count": 2,
   "metadata": {},
   "outputs": [
    {
     "name": "stdout",
     "output_type": "stream",
     "text": [
      "Test Loss 5.0856586 Test Acc 0.9242484 Best Test Acc 0.9245450496673584\n",
      "Test Loss 6.6347713 Test Acc 0.91040343 Best Test Acc 0.9274129271507263\n",
      "Test Loss 5.4483886 Test Acc 0.92365503 Best Test Acc 0.9236550331115723\n",
      "Test Loss 4.9724417 Test Acc 0.92365503 Best Test Acc 0.9236550331115723\n",
      "Test Loss 5.043076 Test Acc 0.9242484 Best Test Acc 0.9260284304618835\n",
      "Test Loss 6.1648397 Test Acc 0.91772145 Best Test Acc 0.9255339503288269\n",
      "Test Loss 5.5091915 Test Acc 0.92078716 Best Test Acc 0.9262261986732483\n",
      "Test Loss 5.141494 Test Acc 0.9257318 Best Test Acc 0.9257317781448364\n",
      "Test Loss 5.3612003 Test Acc 0.9257318 Best Test Acc 0.9257317781448364\n",
      "Test Loss 5.1129265 Test Acc 0.919996 Best Test Acc 0.9204904437065125\n"
     ]
    },
    {
     "data": {
      "text/plain": [
       "{'mean': 0.9249010622501374, 'std': 0.0018385487250506005}"
      ]
     },
     "execution_count": 2,
     "metadata": {},
     "output_type": "execute_result"
    }
   ],
   "source": [
    "fn = functools.partial(colu,num_groups=None,dim=4,variant=\"hard\")\n",
    "validate_activation(fn)"
   ]
  },
  {
   "cell_type": "code",
   "execution_count": 34,
   "metadata": {},
   "outputs": [
    {
     "name": "stdout",
     "output_type": "stream",
     "text": [
      "Test Loss 5.465614 Test Acc 0.92078716 Best Test Acc 0.9287974238395691\n",
      "Test Loss 5.9785495 Test Acc 0.9242484 Best Test Acc 0.9242483973503113\n",
      "Test Loss 6.447693 Test Acc 0.9159414 Best Test Acc 0.9205893278121948\n",
      "Test Loss 5.562606 Test Acc 0.9274129 Best Test Acc 0.9274129271507263\n",
      "Test Loss 5.765641 Test Acc 0.9189082 Best Test Acc 0.9196004271507263\n",
      "Test Loss 5.5702 Test Acc 0.92187494 Best Test Acc 0.9223694205284119\n",
      "Test Loss 6.435885 Test Acc 0.91811705 Best Test Acc 0.9181170463562012\n",
      "Test Loss 5.9301157 Test Acc 0.9209849 Best Test Acc 0.9228639006614685\n",
      "Test Loss 4.793993 Test Acc 0.93374205 Best Test Acc 0.9337420463562012\n",
      "Test Loss 4.9463162 Test Acc 0.92632514 Best Test Acc 0.9263251423835754\n",
      "0.9244066059589386 ± 0.004504809645835173\n"
     ]
    }
   ],
   "source": [
    "fn = functools.partial(colu,num_groups=None,dim=3,variant=\"soft\",share_axis=False)\n",
    "validate_activation(fn,C=513)"
   ]
  },
  {
   "cell_type": "code",
   "execution_count": 26,
   "metadata": {},
   "outputs": [
    {
     "name": "stdout",
     "output_type": "stream",
     "text": [
      "Test Loss 0.50016326 Test Acc 0.94551027 Best Test Acc 0.9455102682113647\n",
      "Test Loss 0.52199095 Test Acc 0.9389833 Best Test Acc 0.9389833211898804\n",
      "Test Loss 0.7850288 Test Acc 0.9302808 Best Test Acc 0.9467958211898804\n",
      "Test Loss 0.6030285 Test Acc 0.9382911 Best Test Acc 0.9403678178787231\n",
      "Test Loss 0.52857697 Test Acc 0.9408623 Best Test Acc 0.9424445629119873\n",
      "Test Loss 0.5734586 Test Acc 0.94392794 Best Test Acc 0.9439279437065125\n",
      "Test Loss 0.49458688 Test Acc 0.94432354 Best Test Acc 0.9443235397338867\n",
      "Test Loss 0.6522249 Test Acc 0.93482983 Best Test Acc 0.9469936490058899\n",
      "Test Loss 0.50361294 Test Acc 0.9459058 Best Test Acc 0.9459058046340942\n",
      "Test Loss 0.48903513 Test Acc 0.94620246 Best Test Acc 0.9462024569511414\n",
      "0.9441455185413361 ± 0.0026118897350840696\n"
     ]
    }
   ],
   "source": [
    "fn = functools.partial(colu,num_groups=None,dim=3,variant=\"soft\",share_axis=True)\n",
    "validate_activation(fn,C=513)"
   ]
  },
  {
   "cell_type": "markdown",
   "metadata": {},
   "source": [
    "#### axis=$\\mathbf 1$ works better than axis=$e_1$ "
   ]
  },
  {
   "cell_type": "markdown",
   "metadata": {},
   "source": [
    "# CIFAR10"
   ]
  },
  {
   "cell_type": "code",
   "execution_count": 18,
   "metadata": {},
   "outputs": [],
   "source": [
    "import jax\n",
    "import jax.numpy as jnp\n",
    "import flax.linen as nn\n",
    "import optax\n",
    "import tensorflow_datasets as tfds\n",
    "from flax.training.train_state import TrainState\n",
    "import numpy as np\n",
    "import time\n",
    "import flax\n",
    "from flax.training.common_utils import shard\n",
    "from maxdiffusion.models.act_flax import rcolu, colu\n",
    "\n",
    "# Data loading and preprocessing\n",
    "def load_data():\n",
    "    ds_builder = tfds.builder('cifar10')\n",
    "    ds_builder.download_and_prepare()\n",
    "    train_ds = tfds.as_numpy(ds_builder.as_dataset(split='train', batch_size=-1))\n",
    "    test_ds = tfds.as_numpy(ds_builder.as_dataset(split='test', batch_size=-1))\n",
    "    \n",
    "    def preprocess(data):\n",
    "        images = jax.device_put(data['image'].astype(np.float32) / 255.0)\n",
    "        labels = jax.device_put(data['label'])\n",
    "        return images, labels\n",
    "    \n",
    "    train_images, train_labels = preprocess(train_ds)\n",
    "    test_images, test_labels = preprocess(test_ds)\n",
    "    return train_images, train_labels, test_images, test_labels\n",
    "\n",
    "# Loss function\n",
    "\n",
    "# Update function\n",
    "@jax.pmap\n",
    "def update_model(state, images, labels):\n",
    "    def compute_loss(params):\n",
    "        logits = state.apply_fn({'params': params}, images)\n",
    "        loss = optax.softmax_cross_entropy(logits=logits, labels=jax.nn.one_hot(labels, 10)).mean()\n",
    "        return loss\n",
    "    grads = jax.grad(compute_loss)(state.params)\n",
    "    new_state = state.apply_gradients(grads=grads)\n",
    "    return new_state\n",
    "\n",
    "# Accuracy function\n",
    "@jax.pmap\n",
    "def compute_accuracy(state, images, labels):\n",
    "    logits = state.apply_fn({'params': state.params}, images)\n",
    "    predicted_labels = jnp.argmax(logits, axis=-1)\n",
    "    accuracy = jnp.mean(predicted_labels == labels)\n",
    "    return accuracy\n",
    "\n",
    "# Training function\n",
    "def train_model(model,train_images, train_labels, test_images, test_labels, num_epochs=10, batch_size=64,lr=1e-3):\n",
    "    rng = jax.random.PRNGKey(int(time.time()))\n",
    "    input_shape = train_images.shape[1:]\n",
    "    rng, init_rng = jax.random.split(rng)\n",
    "    params = model.init(init_rng, jnp.ones([1] + list(input_shape)))['params']\n",
    "    state = TrainState.create(apply_fn=model.apply, params=params, tx=optax.adam(lr))\n",
    "    state = flax.jax_utils.replicate(state)\n",
    "    \n",
    "    num_train_steps = len(train_images) // batch_size\n",
    "    for epoch in range(num_epochs):\n",
    "        for i in range(num_train_steps):\n",
    "            batch_images = train_images[i * batch_size:(i + 1) * batch_size]\n",
    "            batch_labels = train_labels[i * batch_size:(i + 1) * batch_size]\n",
    "            batch_images,batch_labels = shard((batch_images,batch_labels))\n",
    "            state = update_model(state, batch_images, batch_labels)\n",
    "        \n",
    "        num_samples = 10240 # just do a one-pass test roughly\n",
    "        batch_images,batch_labels = shard((train_images[:num_samples], train_labels[:num_samples]))\n",
    "        train_acc = compute_accuracy(state, batch_images,batch_labels)\n",
    "        batch_images,batch_labels = shard((test_images[:num_samples], test_labels[:num_samples]))\n",
    "        test_acc = compute_accuracy(state, batch_images,batch_labels)\n",
    "        train_acc, test_acc = flax.jax_utils.unreplicate((train_acc, test_acc))\n",
    "        print(f'Epoch {epoch + 1}, Train Accuracy: {train_acc:.4f}, Test Accuracy: {test_acc:.4f}')\n",
    "    \n",
    "    return state\n",
    "\n",
    "def validate_activation_cifar10(fn,C=512):\n",
    "    class CNN(nn.Module):\n",
    "        @nn.compact\n",
    "        def __call__(self, x):\n",
    "            x = nn.Conv(features=C, kernel_size=(3, 3))(x)\n",
    "            x = fn(x)\n",
    "            x = nn.max_pool(x, window_shape=(2, 2), strides=(2, 2))\n",
    "            \n",
    "            x = nn.Conv(features=C, kernel_size=(3, 3))(x)\n",
    "            x = fn(x)\n",
    "            x = nn.max_pool(x, window_shape=(2, 2), strides=(2, 2))\n",
    "            \n",
    "            x = nn.Conv(features=C, kernel_size=(3, 3))(x)\n",
    "            x = fn(x)\n",
    "            x = nn.max_pool(x, window_shape=(2, 2), strides=(2, 2))\n",
    "            \n",
    "            x = x.reshape((x.shape[0], -1))  # flatten\n",
    "            x = nn.Dense(features=C)(x)\n",
    "            x = fn(x)\n",
    "            x = nn.Dense(features=10)(x)\n",
    "            return x\n",
    "\n",
    "    model = CNN()\n",
    "    train_images, train_labels, test_images, test_labels = load_data()\n",
    "    state = train_model(model,train_images, train_labels, test_images, test_labels, num_epochs=10)\n",
    "    return state\n"
   ]
  },
  {
   "cell_type": "markdown",
   "metadata": {},
   "source": [
    "#### Result:\n",
    "\n",
    "|Activation     | Test Accuracy                             |\n",
    "|---------------|-------------------------------------------|\n",
    "|relu           | 0.5369|\n",
    "|colu (group=1) | 0.4456|\n",
    "|colu (dim=4,sh)| 0.5471|\n",
    "|colu (dim=4)   | 0.6084 |\n",
    "|colu (3_sh_sf) | 0.6088|\n",
    "|rcolu (group=1)| 0.1692|\n",
    "|rcolu (dim=4)  | 0.1092(Does not converge) |\n",
    "|rcolu (dim=3)  | 0.6076 |\n",
    "|rcolu (dim=2)  | 0.5580 |"
   ]
  },
  {
   "cell_type": "code",
   "execution_count": 17,
   "metadata": {},
   "outputs": [
    {
     "name": "stdout",
     "output_type": "stream",
     "text": [
      "Epoch 1, Train Accuracy: 0.4766, Test Accuracy: 0.4792\n",
      "Epoch 2, Train Accuracy: 0.5340, Test Accuracy: 0.5268\n",
      "Epoch 3, Train Accuracy: 0.5602, Test Accuracy: 0.5388\n",
      "Epoch 4, Train Accuracy: 0.5801, Test Accuracy: 0.5540\n",
      "Epoch 5, Train Accuracy: 0.6148, Test Accuracy: 0.5748\n",
      "Epoch 6, Train Accuracy: 0.6113, Test Accuracy: 0.5672\n",
      "Epoch 7, Train Accuracy: 0.6156, Test Accuracy: 0.5660\n",
      "Epoch 8, Train Accuracy: 0.6379, Test Accuracy: 0.5752\n",
      "Epoch 9, Train Accuracy: 0.6137, Test Accuracy: 0.5400\n",
      "Epoch 10, Train Accuracy: 0.6313, Test Accuracy: 0.5660\n"
     ]
    }
   ],
   "source": [
    "fn = nn.relu\n",
    "C = 512\n",
    "validate_activation_cifar10(fn,C);"
   ]
  },
  {
   "cell_type": "code",
   "execution_count": 7,
   "metadata": {},
   "outputs": [
    {
     "name": "stdout",
     "output_type": "stream",
     "text": [
      "Epoch 1, Train Accuracy: 0.3423, Test Accuracy: 0.3418\n",
      "Epoch 2, Train Accuracy: 0.4331, Test Accuracy: 0.4382\n",
      "Epoch 3, Train Accuracy: 0.4485, Test Accuracy: 0.4517\n",
      "Epoch 4, Train Accuracy: 0.4626, Test Accuracy: 0.4592\n",
      "Epoch 5, Train Accuracy: 0.4844, Test Accuracy: 0.4419\n",
      "Epoch 6, Train Accuracy: 0.4287, Test Accuracy: 0.3948\n",
      "Epoch 7, Train Accuracy: 0.4700, Test Accuracy: 0.4412\n",
      "Epoch 8, Train Accuracy: 0.4719, Test Accuracy: 0.4456\n",
      "Epoch 9, Train Accuracy: 0.4897, Test Accuracy: 0.4607\n",
      "Epoch 10, Train Accuracy: 0.4622, Test Accuracy: 0.4456\n"
     ]
    }
   ],
   "source": [
    "\n",
    "import functools\n",
    "import gc\n",
    "gc.collect()\n",
    "\n",
    "# Define the CNN model\n",
    "fn = functools.partial(colu,num_groups=1,dim=None)\n",
    "C = 512\n",
    "validate_activation_cifar10(fn,C);"
   ]
  },
  {
   "cell_type": "code",
   "execution_count": 19,
   "metadata": {},
   "outputs": [
    {
     "name": "stdout",
     "output_type": "stream",
     "text": [
      "Epoch 1, Train Accuracy: 0.5164, Test Accuracy: 0.5408\n",
      "Epoch 2, Train Accuracy: 0.5887, Test Accuracy: 0.6052\n",
      "Epoch 3, Train Accuracy: 0.6086, Test Accuracy: 0.6032\n",
      "Epoch 4, Train Accuracy: 0.6422, Test Accuracy: 0.5972\n",
      "Epoch 5, Train Accuracy: 0.6785, Test Accuracy: 0.6212\n",
      "Epoch 6, Train Accuracy: 0.6594, Test Accuracy: 0.6260\n",
      "Epoch 7, Train Accuracy: 0.6773, Test Accuracy: 0.6124\n",
      "Epoch 8, Train Accuracy: 0.6383, Test Accuracy: 0.6048\n",
      "Epoch 9, Train Accuracy: 0.6918, Test Accuracy: 0.6268\n",
      "Epoch 10, Train Accuracy: 0.6816, Test Accuracy: 0.6084\n"
     ]
    }
   ],
   "source": [
    "\n",
    "fn = functools.partial(colu,num_groups=None,dim=4,share_axis=False)\n",
    "C = 512\n",
    "validate_activation_cifar10(fn,C);"
   ]
  },
  {
   "cell_type": "code",
   "execution_count": 2,
   "metadata": {},
   "outputs": [
    {
     "name": "stderr",
     "output_type": "stream",
     "text": [
      "2024-07-15 09:56:43.711137: E external/local_xla/xla/stream_executor/cuda/cuda_fft.cc:485] Unable to register cuFFT factory: Attempting to register factory for plugin cuFFT when one has already been registered\n",
      "2024-07-15 09:56:43.732838: E external/local_xla/xla/stream_executor/cuda/cuda_dnn.cc:8454] Unable to register cuDNN factory: Attempting to register factory for plugin cuDNN when one has already been registered\n",
      "2024-07-15 09:56:43.739502: E external/local_xla/xla/stream_executor/cuda/cuda_blas.cc:1452] Unable to register cuBLAS factory: Attempting to register factory for plugin cuBLAS when one has already been registered\n",
      "2024-07-15 09:56:44.805837: W tensorflow/compiler/tf2tensorrt/utils/py_utils.cc:38] TF-TRT Warning: Could not find TensorRT\n"
     ]
    },
    {
     "name": "stdout",
     "output_type": "stream",
     "text": [
      "Epoch 1, Train Accuracy: 0.4690, Test Accuracy: 0.4802\n",
      "Epoch 2, Train Accuracy: 0.5593, Test Accuracy: 0.5452\n",
      "Epoch 3, Train Accuracy: 0.5757, Test Accuracy: 0.5564\n",
      "Epoch 4, Train Accuracy: 0.5889, Test Accuracy: 0.5498\n",
      "Epoch 5, Train Accuracy: 0.6023, Test Accuracy: 0.5527\n",
      "Epoch 6, Train Accuracy: 0.6091, Test Accuracy: 0.5527\n",
      "Epoch 7, Train Accuracy: 0.6230, Test Accuracy: 0.5549\n",
      "Epoch 8, Train Accuracy: 0.6350, Test Accuracy: 0.5752\n",
      "Epoch 9, Train Accuracy: 0.6335, Test Accuracy: 0.5718\n",
      "Epoch 10, Train Accuracy: 0.6130, Test Accuracy: 0.5471\n"
     ]
    }
   ],
   "source": [
    "\n",
    "fn = functools.partial(colu,num_groups=None,dim=4,share_axis=True)\n",
    "C = 512\n",
    "validate_activation_cifar10(fn,C);"
   ]
  },
  {
   "cell_type": "code",
   "execution_count": null,
   "metadata": {},
   "outputs": [],
   "source": [
    "\n",
    "fn = functools.partial(rcolu,num_groups=1,dim=None)\n",
    "C = 512\n",
    "validate_activation_cifar10(fn,C);"
   ]
  },
  {
   "cell_type": "code",
   "execution_count": 23,
   "metadata": {},
   "outputs": [
    {
     "name": "stdout",
     "output_type": "stream",
     "text": [
      "Epoch 1, Train Accuracy: 0.5016, Test Accuracy: 0.5204\n",
      "Epoch 2, Train Accuracy: 0.5520, Test Accuracy: 0.5444\n",
      "Epoch 3, Train Accuracy: 0.5457, Test Accuracy: 0.5508\n",
      "Epoch 4, Train Accuracy: 0.5074, Test Accuracy: 0.5100\n",
      "Epoch 5, Train Accuracy: 0.4805, Test Accuracy: 0.4900\n",
      "Epoch 6, Train Accuracy: 0.6387, Test Accuracy: 0.6124\n",
      "Epoch 7, Train Accuracy: 0.6504, Test Accuracy: 0.6120\n",
      "Epoch 8, Train Accuracy: 0.6871, Test Accuracy: 0.6348\n",
      "Epoch 9, Train Accuracy: 0.6777, Test Accuracy: 0.6240\n",
      "Epoch 10, Train Accuracy: 0.6570, Test Accuracy: 0.6076\n"
     ]
    }
   ],
   "source": [
    "fn = functools.partial(rcolu,num_groups=None,dim=3)\n",
    "C = 510\n",
    "validate_activation_cifar10(fn,C);"
   ]
  },
  {
   "cell_type": "code",
   "execution_count": 24,
   "metadata": {},
   "outputs": [
    {
     "name": "stdout",
     "output_type": "stream",
     "text": [
      "Epoch 1, Train Accuracy: 0.5086, Test Accuracy: 0.5204\n",
      "Epoch 2, Train Accuracy: 0.5379, Test Accuracy: 0.5656\n",
      "Epoch 3, Train Accuracy: 0.5543, Test Accuracy: 0.5464\n",
      "Epoch 4, Train Accuracy: 0.3480, Test Accuracy: 0.3684\n",
      "Epoch 5, Train Accuracy: 0.6262, Test Accuracy: 0.6160\n",
      "Epoch 6, Train Accuracy: 0.6578, Test Accuracy: 0.6396\n",
      "Epoch 7, Train Accuracy: 0.6813, Test Accuracy: 0.6528\n",
      "Epoch 8, Train Accuracy: 0.6707, Test Accuracy: 0.6284\n",
      "Epoch 9, Train Accuracy: 0.6223, Test Accuracy: 0.6036\n",
      "Epoch 10, Train Accuracy: 0.5828, Test Accuracy: 0.5580\n"
     ]
    }
   ],
   "source": [
    "fn = functools.partial(rcolu,num_groups=None,dim=2)\n",
    "C = 512\n",
    "validate_activation_cifar10(fn,C);"
   ]
  },
  {
   "cell_type": "code",
   "execution_count": null,
   "metadata": {},
   "outputs": [],
   "source": [
    "fn = functools.partial(colu,num_groups=None,dim=3,variant=\"soft\",share_axis=True)\n",
    "C = 511\n",
    "validate_activation_cifar10(fn,C);"
   ]
  },
  {
   "cell_type": "markdown",
   "metadata": {},
   "source": [
    "# Rotate Tangent Space of Color Images\n",
    "\n",
    "We perform a hue rotation on CIFAR10."
   ]
  },
  {
   "cell_type": "code",
   "execution_count": 25,
   "metadata": {},
   "outputs": [
    {
     "name": "stderr",
     "output_type": "stream",
     "text": [
      "2024-07-15 21:43:51.989749: W tensorflow/core/kernels/data/cache_dataset_ops.cc:913] The calling iterator did not fully read the dataset being cached. In order to avoid unexpected truncation of the dataset, the partially cached contents of the dataset  will be discarded. This can happen if you have an input pipeline similar to `dataset.cache().take(k).repeat()`. You should use `dataset.take(k).cache().repeat()` instead.\n"
     ]
    },
    {
     "data": {
      "image/png": "[encoded data removed]",
      "text/plain": [
       "<Figure size 1000x1000 with 5 Axes>"
      ]
     },
     "metadata": {},
     "output_type": "display_data"
    },
    {
     "name": "stderr",
     "output_type": "stream",
     "text": [
      "2024-07-15 21:43:52.186151: W tensorflow/core/kernels/data/cache_dataset_ops.cc:913] The calling iterator did not fully read the dataset being cached. In order to avoid unexpected truncation of the dataset, the partially cached contents of the dataset  will be discarded. This can happen if you have an input pipeline similar to `dataset.cache().take(k).repeat()`. You should use `dataset.take(k).cache().repeat()` instead.\n"
     ]
    },
    {
     "name": "stdout",
     "output_type": "stream",
     "text": [
      "(32, 32, 32, 3) (32,)\n"
     ]
    }
   ],
   "source": [
    "import tensorflow as tf\n",
    "import tensorflow_datasets as tfds\n",
    "import matplotlib.pyplot as plt\n",
    "import numpy as np\n",
    "# Load dataset\n",
    "dataset = tfds.load('cifar10', split='train')\n",
    "\n",
    "# Define hue rotation function\n",
    "def rotate_hue(example, delta):\n",
    "    example['image'] = tf.cast(example['image'], tf.float32)\n",
    "    example['image'] = (example['image'] + 0.5) / 255.0 #* 2.0 - 1.0  # Normalize to [-1, 1]\n",
    "    example['image'] = tf.clip_by_value(example['image'], 0.0, 1.0)\n",
    "    rotate_fn = lambda x, d: tf.image.adjust_hue(x, d)\n",
    "    x,y = example['image'][:16], example['image'][16:]\n",
    "    example['image'] = tf.concat([rotate_fn(x,delta), rotate_fn(y,-delta)], axis=0)\n",
    "    return example\n",
    "\n",
    "# Apply hue rotation\n",
    "delta = .25  # Adjust this value as needed\n",
    "dataset = dataset.map(lambda example: rotate_hue(example, delta), \n",
    "                      num_parallel_calls=tf.data.experimental.AUTOTUNE)\n",
    "\n",
    "# Optional: Visualize the results\n",
    "def show_examples(dataset, num_examples):\n",
    "    plt.figure(figsize=(10, 10))\n",
    "    for i, example in enumerate(dataset.take(num_examples)):\n",
    "        plt.subplot(1, num_examples, i+1)\n",
    "        plt.imshow(example['image'])\n",
    "        plt.axis('off')\n",
    "    plt.show()\n",
    "\n",
    "show_examples(dataset, 5)\n",
    "\n",
    "# Prepare dataset for training\n",
    "batch_size = 32\n",
    "dataset = dataset.shuffle(buffer_size=1024)\n",
    "dataset = dataset.batch(batch_size)\n",
    "dataset = dataset.prefetch(buffer_size=tf.data.experimental.AUTOTUNE)\n",
    "for example in dataset:\n",
    "    print(example['image'].shape, example['label'].shape)\n",
    "    break\n",
    "\n"
   ]
  },
  {
   "cell_type": "code",
   "execution_count": 43,
   "metadata": {},
   "outputs": [
    {
     "data": {
      "text/plain": [
       "(50000, 32, 32, 3)"
      ]
     },
     "execution_count": 43,
     "metadata": {},
     "output_type": "execute_result"
    }
   ],
   "source": [
    "# redefine dataset\n",
    "\n",
    "def rotate_hue(example):\n",
    "    delta = tf.random.uniform([], minval=-1, maxval=1)\n",
    "    example['image'] = tf.cast(example['image'], tf.float32)\n",
    "    example['image'] = (example['image'] + 0.5) / 255.0 #* 2.0 - 1.0  # Normalize to [-1, 1]\n",
    "    example['image'] = tf.clip_by_value(example['image'], 0.0, 1.0)\n",
    "    rotate_fn = lambda x, d: tf.image.adjust_hue(x, d)\n",
    "    example['image'] = rotate_fn(example['image'],delta)\n",
    "    return example\n",
    "\n",
    "\n",
    "def load_data():\n",
    "    ds_builder = tfds.builder('cifar10')\n",
    "    ds_builder.download_and_prepare()\n",
    "    \n",
    "    # Load the dataset\n",
    "    train_ds = ds_builder.as_dataset(split='train')\n",
    "    test_ds = ds_builder.as_dataset(split='test')\n",
    "    \n",
    "    # Apply the map function before converting to NumPy\n",
    "    train_ds = train_ds.map(rotate_hue)\n",
    "    test_ds = test_ds.map(rotate_hue)\n",
    "    \n",
    "    # Get the number of examples in the dataset\n",
    "    num_train_examples = ds_builder.info.splits['train'].num_examples\n",
    "    num_test_examples = ds_builder.info.splits['test'].num_examples\n",
    "\n",
    "    # Batch the dataset to get all examples in a single batch\n",
    "    train_ds = train_ds.batch(num_train_examples)\n",
    "    test_ds = test_ds.batch(num_test_examples)\n",
    "\n",
    "    # Convert the datasets to NumPy format and load the entire batch\n",
    "    train_batch = tfds.as_numpy(train_ds)\n",
    "    test_batch = tfds.as_numpy(test_ds)\n",
    "\n",
    "    # Extract images and labels from the dictionaries\n",
    "    train_images, train_labels = next(iter(train_batch))['image'], next(iter(train_batch))['label']\n",
    "    test_images, test_labels = next(iter(test_batch))['image'], next(iter(test_batch))['label']\n",
    "\n",
    "    return train_images, train_labels, test_images, test_labels\n",
    "\n",
    "\n",
    "train_images, train_labels, test_images, test_labels = load_data()\n",
    "train_images.shape"
   ]
  },
  {
   "cell_type": "code",
   "execution_count": 58,
   "metadata": {},
   "outputs": [
    {
     "data": {
      "image/png": "[encoded data removed]",
      "text/plain": [
       "<Figure size 1000x200 with 5 Axes>"
      ]
     },
     "metadata": {},
     "output_type": "display_data"
    }
   ],
   "source": [
    "i=0\n",
    "plt.figure(figsize=(10,2))\n",
    "for image in test_images:\n",
    "    plt.subplot(1,5,i+1)\n",
    "    plt.imshow(image)\n",
    "    plt.axis('off')\n",
    "    i+=1\n",
    "    if i>=5:\n",
    "        break"
   ]
  },
  {
   "cell_type": "code",
   "execution_count": 44,
   "metadata": {},
   "outputs": [
    {
     "name": "stdout",
     "output_type": "stream",
     "text": [
      "Epoch 1, Train Accuracy: 0.4418, Test Accuracy: 0.4380\n",
      "Epoch 2, Train Accuracy: 0.4938, Test Accuracy: 0.4948\n",
      "Epoch 3, Train Accuracy: 0.5641, Test Accuracy: 0.5472\n",
      "Epoch 4, Train Accuracy: 0.5820, Test Accuracy: 0.5640\n",
      "Epoch 5, Train Accuracy: 0.5918, Test Accuracy: 0.5712\n",
      "Epoch 6, Train Accuracy: 0.5754, Test Accuracy: 0.5308\n",
      "Epoch 7, Train Accuracy: 0.6320, Test Accuracy: 0.5668\n",
      "Epoch 8, Train Accuracy: 0.6281, Test Accuracy: 0.5564\n",
      "Epoch 9, Train Accuracy: 0.6238, Test Accuracy: 0.5624\n",
      "Epoch 10, Train Accuracy: 0.6047, Test Accuracy: 0.5444\n"
     ]
    }
   ],
   "source": [
    "fn = functools.partial(colu,num_groups=None,dim=3,variant=\"soft\",share_axis=True)\n",
    "C = 511\n",
    "validate_activation_cifar10(fn,C);"
   ]
  },
  {
   "cell_type": "code",
   "execution_count": 45,
   "metadata": {},
   "outputs": [
    {
     "name": "stdout",
     "output_type": "stream",
     "text": [
      "Epoch 1, Train Accuracy: 0.4148, Test Accuracy: 0.4260\n",
      "Epoch 2, Train Accuracy: 0.4707, Test Accuracy: 0.4664\n",
      "Epoch 3, Train Accuracy: 0.5059, Test Accuracy: 0.4868\n",
      "Epoch 4, Train Accuracy: 0.5160, Test Accuracy: 0.5012\n",
      "Epoch 5, Train Accuracy: 0.5402, Test Accuracy: 0.4912\n",
      "Epoch 6, Train Accuracy: 0.5656, Test Accuracy: 0.5160\n",
      "Epoch 7, Train Accuracy: 0.6016, Test Accuracy: 0.5284\n",
      "Epoch 8, Train Accuracy: 0.5898, Test Accuracy: 0.5188\n",
      "Epoch 9, Train Accuracy: 0.5918, Test Accuracy: 0.5216\n",
      "Epoch 10, Train Accuracy: 0.5855, Test Accuracy: 0.5196\n"
     ]
    }
   ],
   "source": [
    "fn = nn.relu\n",
    "C = 511\n",
    "validate_activation_cifar10(fn,C);"
   ]
  },
  {
   "cell_type": "markdown",
   "metadata": {},
   "source": [
    "# Dimensionality Reduction"
   ]
  },
  {
   "cell_type": "code",
   "execution_count": null,
   "metadata": {},
   "outputs": [
    {
     "name": "stderr",
     "output_type": "stream",
     "text": [
      "2024-07-12 15:25:16.398904: E external/local_xla/xla/stream_executor/cuda/cuda_dnn.cc:9261] Unable to register cuDNN factory: Attempting to register factory for plugin cuDNN when one has already been registered\n",
      "2024-07-12 15:25:16.398965: E external/local_xla/xla/stream_executor/cuda/cuda_fft.cc:607] Unable to register cuFFT factory: Attempting to register factory for plugin cuFFT when one has already been registered\n",
      "2024-07-12 15:25:16.400004: E external/local_xla/xla/stream_executor/cuda/cuda_blas.cc:1515] Unable to register cuBLAS factory: Attempting to register factory for plugin cuBLAS when one has already been registered\n",
      "2024-07-12 15:25:16.407587: I tensorflow/core/platform/cpu_feature_guard.cc:182] This TensorFlow binary is optimized to use available CPU instructions in performance-critical operations.\n",
      "To enable the following instructions: AVX2 FMA, in other operations, rebuild TensorFlow with the appropriate compiler flags.\n",
      "2024-07-12 15:25:17.516433: W tensorflow/compiler/tf2tensorrt/utils/py_utils.cc:38] TF-TRT Warning: Could not find TensorRT\n",
      "/home/evergreen/.local/lib/python3.10/site-packages/umap/umap_.py:1945: UserWarning: n_jobs value 1 overridden to 1 by setting random_state. Use no seed for parallelism.\n",
      "  warn(f\"n_jobs value {self.n_jobs} overridden to 1 by setting random_state. Use no seed for parallelism.\")\n"
     ]
    },
    {
     "data": {
      "image/png": "[encoded data removed]",
      "text/plain": [
       "<Figure size 640x480 with 1 Axes>"
      ]
     },
     "metadata": {},
     "output_type": "display_data"
    }
   ],
   "source": [
    "import numpy as np\n",
    "import umap\n",
    "import matplotlib.pyplot as plt\n",
    "from mpl_toolkits.mplot3d import Axes3D\n",
    "\n",
    "# Step 1: Generate example high-dimensional data\n",
    "data = np.random.rand(100, 50)\n",
    "\n",
    "# Step 2: Create a UMAP object for 3D embedding\n",
    "umap_3d = umap.UMAP(n_components=3, random_state=42)\n",
    "\n",
    "# Step 3: Fit and transform the data\n",
    "embedding_3d = umap_3d.fit_transform(data)\n",
    "\n",
    "# Step 4: Visualize the 3D embedding\n",
    "fig = plt.figure()\n",
    "ax = fig.add_subplot(111, projection='3d')\n",
    "ax.scatter(embedding_3d[:, 0], embedding_3d[:, 1], embedding_3d[:, 2], c='blue', marker='o')\n",
    "ax.set_xlabel('UMAP1')\n",
    "ax.set_ylabel('UMAP2')\n",
    "ax.set_zlabel('UMAP3')\n",
    "plt.show()\n"
   ]
  }
 ],
 "metadata": {
  "kernelspec": {
   "display_name": "Python 3",
   "language": "python",
   "name": "python3"
  },
  "language_info": {
   "codemirror_mode": {
    "name": "ipython",
    "version": 3
   },
   "file_extension": ".py",
   "mimetype": "text/x-python",
   "name": "python",
   "nbconvert_exporter": "python",
   "pygments_lexer": "ipython3",
   "version": "3.10.12"
  }
 },
 "nbformat": 4,
 "nbformat_minor": 2
}
