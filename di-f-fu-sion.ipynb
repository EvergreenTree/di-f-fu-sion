{
 "cells": [
  {
   "cell_type": "markdown",
   "metadata": {},
   "source": [
    "## Multi-Host Data Sharding\n",
    "\n",
    "Please follow the awesome [TPU Starter](https://github.com/ayaka14732/tpu-starter).\n",
    "\n",
    "<details>\n",
    "<summary>\n",
    "(Click to expand) For macos iTerm users, consider diagnosing all hosts with the following AppleScript:\n",
    "</summary>\n",
    "\n",
    "```osascript\n",
    "tell application \"iTerm\"\n",
    "\tactivate\n",
    "\tcreate window with default profile\n",
    "\t\n",
    "\ttell current session of current window\n",
    "\t\twrite text \"gcloud compute tpus tpu-vm ssh tpu-name --worker=0\"\n",
    "\tend tell\n",
    "\t\n",
    "\tset sessionList to {current session of current window}\n",
    "\t\n",
    "\trepeat with i from 1 to 7\n",
    "\t\ttell current session of current window\n",
    "\t\t\tset newSession to (split horizontally with default profile)\n",
    "\t\tend tell\n",
    "\t\tdelay 0.5\n",
    "\t\tset end of sessionList to newSession\n",
    "\tend repeat\n",
    "\t\n",
    "\trepeat with i from 1 to 7\n",
    "\t\ttell item (i + 1) of sessionList\n",
    "\t\t\twrite text \"gcloud compute tpus tpu-vm ssh tpu-name --worker=\" & i\n",
    "\t\tend tell\n",
    "\tend repeat\n",
    "end tell\n",
    "```\n",
    "</details>\n",
    "\n",
    "Then press `cmd+shift+I` to spread commands to each window."
   ]
  },
  {
   "cell_type": "code",
   "execution_count": null,
   "metadata": {},
   "outputs": [],
   "source": [
    "!IPYTHONDIR=. ipcontroller --ip='*'  # Start this on the controller host,\n",
    "!podrun -iw -- /home/evergreen/.local/bin/ipengine --file=profile_default/security/ipcontroller-engine.json  # Start this on each engine host"
   ]
  },
  {
   "cell_type": "code",
   "execution_count": 1,
   "metadata": {},
   "outputs": [
    {
     "data": {
      "text/plain": [
       "[0, 1, 2, 3, 4, 5, 6, 7]"
      ]
     },
     "execution_count": 1,
     "metadata": {},
     "output_type": "execute_result"
    }
   ],
   "source": [
    "import os\n",
    "os.environ['IPYTHONDIR']=\".\"\n",
    "import ipyparallel as ipp\n",
    "\n",
    "# Connect to the IPython cluster\n",
    "rc = ipp.Client()\n",
    "rc.ids  # List the engine IDs"
   ]
  },
  {
   "cell_type": "code",
   "execution_count": 2,
   "metadata": {},
   "outputs": [
    {
     "name": "stdout",
     "output_type": "stream",
     "text": [
      "['t1v-n-30d29099-w-0', 't1v-n-30d29099-w-5', 't1v-n-30d29099-w-6', 't1v-n-30d29099-w-3', 't1v-n-30d29099-w-1', 't1v-n-30d29099-w-7', 't1v-n-30d29099-w-4', 't1v-n-30d29099-w-2']\n"
     ]
    }
   ],
   "source": [
    "# Create a DirectView of all engines\n",
    "dview = rc[:]\n",
    "\n",
    "# Run a Python command on all engines\n",
    "dview.execute('import socket')\n",
    "dview.execute('hostname = socket.gethostname()')\n",
    "dview.execute('print(f\"Hello from {hostname}\")')\n",
    "\n",
    "# Get results from the engines\n",
    "results = dview.apply_sync(lambda: socket.gethostname())\n",
    "print(results)"
   ]
  },
  {
   "cell_type": "code",
   "execution_count": null,
   "metadata": {},
   "outputs": [],
   "source": []
  }
 ],
 "metadata": {
  "kernelspec": {
   "display_name": "Python 3",
   "language": "python",
   "name": "python3"
  },
  "language_info": {
   "codemirror_mode": {
    "name": "ipython",
    "version": 3
   },
   "file_extension": ".py",
   "mimetype": "text/x-python",
   "name": "python",
   "nbconvert_exporter": "python",
   "pygments_lexer": "ipython3",
   "version": "3.10.12"
  }
 },
 "nbformat": 4,
 "nbformat_minor": 2
}
