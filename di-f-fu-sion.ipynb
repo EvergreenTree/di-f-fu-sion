{
 "cells": [
  {
   "cell_type": "markdown",
   "metadata": {},
   "source": [
    "## Multi-Host Configurations\n",
    "\n",
    "Please follow the awesome [TPU Starter](https://github.com/ayaka14732/tpu-starter).\n",
    "\n",
    "<details>\n",
    "<summary>\n",
    "(Click to expand) For macos iTerm users, consider diagnosing all hosts with ssh using the following AppleScript. Then press `cmd+shift+I` to spread commands to each window.\n",
    "</summary>\n",
    "\n",
    "```osascript\n",
    "tell application \"iTerm\"\n",
    "\tactivate\n",
    "\tcreate window with default profile\n",
    "\t\n",
    "\tset sessionList to {current session of current window}\n",
    "\t\n",
    "\ttell current session of current window\n",
    "\t\tset newSession to (split vertically with default profile)\n",
    "\tend tell\n",
    "\tset beginning of sessionList to newSession\n",
    "\t\n",
    "\trepeat with i from 1 to 6\n",
    "\t\ttell current session of current window\n",
    "\t\t\tset newSession to (split horizontally with default profile)\n",
    "\t\tend tell\n",
    "\t\tset end of sessionList to newSession\n",
    "\tend repeat\n",
    "\t\n",
    "\trepeat with i from 0 to 7\n",
    "\t\ttell item (i + 1) of sessionList\n",
    "\t\t\twrite text \"gcloud compute tpus tpu-vm ssh ergodic-diffusion --worker=\" & i\n",
    "\t\tend tell\n",
    "\tend repeat\n",
    "end tell\n",
    "```\n",
    "</details>\n",
    "\n",
    "\n",
    "\n",
    "<details>\n",
    "<summary>\n",
    "(Click to expand) Workaround to run jax in notebook on multi-host TPU pod: run `podrun -w -- python -c \"import jax;jax.distributed.initialize()\"` to initialize other nodes (however the process will halt after a while).\n",
    "</summary>\n",
    "\n",
    "```\n",
    "from src.podrun import podrun\n",
    "\n",
    "command = \"\"\"import jax;jax.distributed.initialize()\"\"\"\n",
    "podrun(command)\n",
    "```\n",
    "\n",
    "</details>\n",
    "\n",
    "Run `ps -ef|grep python|grep ever|grep -v grep|awk '{print $2}'|xargs sudo kill` on each node to clean processes if needed.\n",
    "\n",
    "## Single-Host Demo"
   ]
  },
  {
   "cell_type": "code",
   "execution_count": null,
   "metadata": {},
   "outputs": [],
   "source": []
  }
 ],
 "metadata": {
  "kernelspec": {
   "display_name": "Python 3",
   "language": "python",
   "name": "python3"
  },
  "language_info": {
   "codemirror_mode": {
    "name": "ipython",
    "version": 3
   },
   "file_extension": ".py",
   "mimetype": "text/x-python",
   "name": "python",
   "nbconvert_exporter": "python",
   "pygments_lexer": "ipython3",
   "version": "3.10.12"
  }
 },
 "nbformat": 4,
 "nbformat_minor": 2
}
