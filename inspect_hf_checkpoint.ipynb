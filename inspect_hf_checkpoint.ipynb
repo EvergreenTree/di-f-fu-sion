{
 "cells": [
  {
   "cell_type": "markdown",
   "metadata": {},
   "source": [
    "#### Inspect checkpoint using flax checkpoint instead of HF interface"
   ]
  },
  {
   "cell_type": "code",
   "execution_count": null,
   "metadata": {},
   "outputs": [],
   "source": [
    "from flax.training import checkpoints\n",
    "from maxdiffusion.models.train_alt import create_train_state\n",
    "from maxdiffusion.configs.cifar10 import get_config\n",
    "import jax\n",
    "from maxdiffusion.max_utils import calculate_num_params_from_pytree\n",
    "\n",
    "config=get_config()\n",
    "state = create_train_state(jax.random.PRNGKey(0),config)\n",
    "# state = checkpoints.restore_checkpoint('', state)"
   ]
  },
  {
   "cell_type": "code",
   "execution_count": 42,
   "metadata": {},
   "outputs": [
    {
     "data": {
      "text/plain": [
       "'#Params=0.053B'"
      ]
     },
     "execution_count": 42,
     "metadata": {},
     "output_type": "execute_result"
    }
   ],
   "source": [
    "num_model_parameters=calculate_num_params_from_pytree(state.params)\n",
    "# jax.tree.map(lambda x:getattr(x.shape,'value',x.shape),state.params)\n",
    "f'#Params={num_model_parameters/10**9:.3f}B'"
   ]
  }
 ],
 "metadata": {
  "kernelspec": {
   "display_name": "venv",
   "language": "python",
   "name": "python3"
  },
  "language_info": {
   "codemirror_mode": {
    "name": "ipython",
    "version": 3
   },
   "file_extension": ".py",
   "mimetype": "text/x-python",
   "name": "python",
   "nbconvert_exporter": "python",
   "pygments_lexer": "ipython3",
   "version": "3.11.9"
  }
 },
 "nbformat": 4,
 "nbformat_minor": 2
}
